{
 "cells": [
  {
   "cell_type": "code",
   "execution_count": 1,
   "metadata": {},
   "outputs": [],
   "source": [
    "import socket\n",
    "import threading"
   ]
  },
  {
   "cell_type": "code",
   "execution_count": 2,
   "metadata": {
    "scrolled": false
   },
   "outputs": [],
   "source": [
    "s = socket.socket(socket.AF_INET, socket.SOCK_STREAM)\n",
    "pars = ('127.0.0.1',80) \n",
    "s.bind(pars)\n",
    "s.listen(5)"
   ]
  },
  {
   "cell_type": "code",
   "execution_count": 3,
   "metadata": {},
   "outputs": [],
   "source": [
    "def serveClient(clientsocket, address):\n",
    "\n",
    "    while True:\n",
    "        \n",
    "        data = clientsocket.recv(1024)\n",
    "        string = bytes.decode(data)\n",
    "        file_requested = string.split(' ')\n",
    "        URL = file_requested[1]\n",
    "        \n",
    "        if(URL == '/good.html'):\n",
    "           \n",
    "            response_headers = \"HTTP/1.1 200 OK\\n\" + \"Content-Type: text/html\\n\" + \"\\n\"\n",
    "            response_headers = response_headers.encode()\n",
    "            response_body = b'<html><body>good.html</body></html>'\n",
    "            response = response_headers + response_body\n",
    "            clientsocket.send(response)\n",
    "            break\n",
    "            \n",
    "        if(URL == '/redirect.html'):\n",
    "            \n",
    "            response_header = \"HTTP/1.1 301 Moved Permanently\\n\"+\"Content-Type: text/html\\n\"+\"Location: /good.html\\n\"+\"\\n\"\n",
    "            response_header = response_header.encode()\n",
    "            response_content = b\"<html><body><p>redirect</p></body></html>\"\n",
    "            response = response_header + response_content\n",
    "            clientsocket.send(response)\n",
    "            break\n",
    "                \n",
    "        if(URL == '/notfound.html'):\n",
    "            \n",
    "            response_header = \"HTTP/1.1 404 Not Found\\n\"+\"Content-Type: text/html\\n\"+\"\\n\"\n",
    "            response_header = response_header.encode()\n",
    "            response_content = b\"<html><body><p>Not Found Page</p></body></html>\"\n",
    "            response = response_header + response_content\n",
    "            clientsocket.send(response)\n",
    "            break\n",
    "                \n",
    "    clientsocket.close()           "
   ]
  },
  {
   "cell_type": "code",
   "execution_count": null,
   "metadata": {
    "scrolled": false
   },
   "outputs": [
    {
     "name": "stderr",
     "output_type": "stream",
     "text": [
      "Exception in thread Thread-4:\n",
      "Traceback (most recent call last):\n",
      "  File \"/Users/yuchunwang/opt/anaconda3/lib/python3.7/threading.py\", line 926, in _bootstrap_inner\n",
      "    self.run()\n",
      "  File \"/Users/yuchunwang/opt/anaconda3/lib/python3.7/threading.py\", line 870, in run\n",
      "    self._target(*self._args, **self._kwargs)\n",
      "  File \"<ipython-input-3-98966c41342e>\", line 8, in serveClient\n",
      "    URL = file_requested[1]\n",
      "IndexError: list index out of range\n",
      "\n",
      "Exception in thread Thread-5:\n",
      "Traceback (most recent call last):\n",
      "  File \"/Users/yuchunwang/opt/anaconda3/lib/python3.7/threading.py\", line 926, in _bootstrap_inner\n",
      "    self.run()\n",
      "  File \"/Users/yuchunwang/opt/anaconda3/lib/python3.7/threading.py\", line 870, in run\n",
      "    self._target(*self._args, **self._kwargs)\n",
      "  File \"<ipython-input-3-98966c41342e>\", line 8, in serveClient\n",
      "    URL = file_requested[1]\n",
      "IndexError: list index out of range\n",
      "\n"
     ]
    }
   ],
   "source": [
    "while True:\n",
    "    \n",
    "    (clientsocket, address) = s.accept()\n",
    "    threading.Thread(target = serveClient, args = (clientsocket, address)).start()"
   ]
  },
  {
   "cell_type": "code",
   "execution_count": null,
   "metadata": {},
   "outputs": [],
   "source": [
    "s.close()"
   ]
  }
 ],
 "metadata": {
  "kernelspec": {
   "display_name": "Python 3",
   "language": "python",
   "name": "python3"
  },
  "language_info": {
   "codemirror_mode": {
    "name": "ipython",
    "version": 3
   },
   "file_extension": ".py",
   "mimetype": "text/x-python",
   "name": "python",
   "nbconvert_exporter": "python",
   "pygments_lexer": "ipython3",
   "version": "3.7.4"
  }
 },
 "nbformat": 4,
 "nbformat_minor": 2
}
