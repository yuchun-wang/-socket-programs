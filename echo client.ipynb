{
 "cells": [
  {
   "cell_type": "code",
   "execution_count": 1,
   "metadata": {},
   "outputs": [
    {
     "name": "stdout",
     "output_type": "stream",
     "text": [
      "[server reply]  (0, 255, 0, 59073, 1, 108356031)\n",
      "Type :  00000000\n",
      "Code :  11111111\n",
      "Unused :  0000000000000000\n",
      "Identifier :  1110011011000001\n",
      "Sequence Number :  0000000000000001\n",
      "Message :  00000110011101010110000110111111\n"
     ]
    }
   ],
   "source": [
    "import socket\n",
    "import threading\n",
    "import struct\n",
    "import random\n",
    "\n",
    "s = socket.socket(socket.AF_INET, socket.SOCK_STREAM)\n",
    "pars = ('127.0.0.1', 8999)\n",
    "s.connect(pars)\n",
    "\n",
    "while True:\n",
    " \n",
    "    id = random.randint(0,65535)\n",
    "    data = struct.pack(\"!BBHHHI\",8,255,0,id,1,108356031)\n",
    "    s.send(data)\n",
    "    \n",
    "    data = s.recv(1024)\n",
    "    unpack_data = struct.unpack(\"!BBHHHI\",data)\n",
    "    \n",
    "    print('[server reply] ',unpack_data)\n",
    "    print('Type : ',format(unpack_data[0], '08b'))\n",
    "    print('Code : ',format(unpack_data[1],'08b'))\n",
    "    print('Unused : ',format(unpack_data[2],'016b'))\n",
    "    print('Identifier : ',format(unpack_data[3],'016b'))\n",
    "    print('Sequence Number : ',format(unpack_data[4],'016b'))\n",
    "    print('Message : ',format(unpack_data[5],'032b'))\n",
    "\n",
    "    break\n",
    "\n",
    "s.close()"
   ]
  }
 ],
 "metadata": {
  "kernelspec": {
   "display_name": "Python 3",
   "language": "python",
   "name": "python3"
  },
  "language_info": {
   "codemirror_mode": {
    "name": "ipython",
    "version": 3
   },
   "file_extension": ".py",
   "mimetype": "text/x-python",
   "name": "python",
   "nbconvert_exporter": "python",
   "pygments_lexer": "ipython3",
   "version": "3.7.4"
  }
 },
 "nbformat": 4,
 "nbformat_minor": 2
}
